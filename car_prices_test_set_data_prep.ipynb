{
 "cells": [
  {
   "cell_type": "code",
   "execution_count": 1,
   "id": "3c04612c-1b11-43fc-bedc-b1633f8677d4",
   "metadata": {},
   "outputs": [],
   "source": [
    "import pandas as pd\n",
    "import dtale\n",
    "from matplotlib import pyplot as plt\n",
    "%matplotlib inline\n",
    "import numpy as np\n",
    "from sklearn.linear_model import LinearRegression\n",
    "from sklearn.model_selection import train_test_split\n",
    "\n",
    "pd.set_option('display.max_columns', None)\n",
    "pd.set_option('display.max_rows', 100)"
   ]
  },
  {
   "cell_type": "code",
   "execution_count": 2,
   "id": "bab74112-a737-4a41-9d66-92784e046a12",
   "metadata": {},
   "outputs": [],
   "source": [
    "df = pd.read_csv('data_original.csv')\n",
    "df.drop(columns=['make','price_position'], inplace=True)\n",
    "df.replace('Unlisted', np.nan, inplace=True)"
   ]
  },
  {
   "cell_type": "markdown",
   "id": "d5e4bb5a-8574-41d8-9bd4-ca63b5a4e9c3",
   "metadata": {},
   "source": [
    "## Create test set\n",
    "- Will use CV for model selection\n",
    "- Test set to evaluate model at the end\n",
    "- Will perform all processing on test set simultaneously with train (avoiding leakage)"
   ]
  },
  {
   "cell_type": "code",
   "execution_count": 3,
   "id": "d08b5f17-fdd8-481b-bff6-395b123e9ca9",
   "metadata": {},
   "outputs": [],
   "source": [
    "df, test_df = train_test_split(df, test_size=0.1, random_state=123)"
   ]
  },
  {
   "cell_type": "markdown",
   "id": "24ac9091-a27d-43a2-b831-279e07decf69",
   "metadata": {},
   "source": [
    "## Create features from 'derivative' column"
   ]
  },
  {
   "cell_type": "code",
   "execution_count": 4,
   "id": "22acab6e-2925-4044-bd42-b49dcba99f66",
   "metadata": {},
   "outputs": [
    {
     "name": "stderr",
     "output_type": "stream",
     "text": [
      "/var/folders/qt/w00br2yn2x5fzq44vmf5n86h0000gn/T/ipykernel_22992/3882310352.py:3: UserWarning:\n",
      "\n",
      "This pattern is interpreted as a regular expression, and has match groups. To actually get the groups, use str.extract.\n",
      "\n",
      "/var/folders/qt/w00br2yn2x5fzq44vmf5n86h0000gn/T/ipykernel_22992/3882310352.py:3: UserWarning:\n",
      "\n",
      "This pattern is interpreted as a regular expression, and has match groups. To actually get the groups, use str.extract.\n",
      "\n"
     ]
    }
   ],
   "source": [
    "def derivative_features(df_):\n",
    "    df_['euro_emissions'] = df_['derivative'].str.extract(r'Euro (\\d)').astype('float') ## The emissions classification (ULEZ etc)\n",
    "    df_['stopstart'] = df_['derivative'].str.contains('(s/s)', na=False)\n",
    "    df_['motorsport'] = df_['derivative'].str.contains('M Sport', na=False)\n",
    "    df_['sport'] = df_['derivative'].str.contains('Sport', na=False) & ~df['derivative'].str.contains('M Sport', na=False)\n",
    "    df_['doors'] = df_['derivative'].str.extract(r'(\\d)dr').astype('float')\n",
    "    df_['d_number'] = df_['derivative'].str.extract(r'(\\d{2,})d ').astype('float') \n",
    "    df_['i_number'] = df_['derivative'].str.extract(r'(\\d{2,})i ').astype('float') \n",
    "    df_['e_number'] = df_['derivative'].str.extract(r'(\\d{2,})e ').astype('float') \n",
    "    df_['xdrive'] = df_['derivative'].str.contains('xDrive', na=False)\n",
    "    df_['se'] = df_['derivative'].str.contains(' SE ', na=False)\n",
    "    df_['steptronic'] = df_['derivative'].str.contains('Steptronic', na=False)\n",
    "    df_['dct'] = df_['derivative'].str.contains('DCT', na=False) # dual clutch transmission\n",
    "    df_['touring'] = df_['derivative'].str.contains('Touring', na=False) \n",
    "    df_['special_edition'] = df_['derivative'].str.contains('Edition', na=False) \n",
    "    df_['competition'] = df_['derivative'].str.contains('Competition', na=False) \n",
    "    df_['battery_capacity'] = df_['derivative'].str.extract(r'(\\d+\\.\\d+|\\d+)kWh').astype('float')\n",
    "    return df_\n",
    "\n",
    "df = derivative_features(df)\n",
    "test_df = derivative_features(test_df)"
   ]
  },
  {
   "cell_type": "markdown",
   "id": "1fe866c6-fc50-4d74-b8c7-06d988519fb1",
   "metadata": {},
   "source": [
    "### Fill null fuel type\n",
    "- Deduce fuel_type from the d_number, i_number and e_number/engine_size\n",
    "- Otherwise, use the mode for that car model, then the mode for the whole dataset"
   ]
  },
  {
   "cell_type": "code",
   "execution_count": 5,
   "id": "a14d27f5-f0c6-4d1f-ad40-b8ca7d9fff5a",
   "metadata": {},
   "outputs": [
    {
     "name": "stdout",
     "output_type": "stream",
     "text": [
      "Number of cars with null fuel_type before: 4\n",
      "Number of cars with null fuel_type after: 0\n"
     ]
    }
   ],
   "source": [
    "print('Number of cars with null fuel_type before:', len(df[df['fuel_type'].isnull()]))\n",
    "\n",
    "def fill_fuel_type_by_deduction(row):\n",
    "    if pd.isnull(row['fuel_type']):\n",
    "        if not pd.isnull(row['d_number']):\n",
    "            return 'Diesel'\n",
    "        if not pd.isnull(row['i_number']):\n",
    "            return 'Petrol'\n",
    "        if not pd.isnull(row['e_number']):\n",
    "            if pd.isnull(row['engine_size']) or row['engine_size']==0:\n",
    "                return 'Electric'\n",
    "            else:\n",
    "                return 'Petrol Plug-in Hybrid'\n",
    "    return row['fuel_type']\n",
    "\n",
    "df['fuel_type'] = df.apply(fill_fuel_type_by_deduction, axis=1)\n",
    "test_df['fuel_type'] = test_df.apply(fill_fuel_type_by_deduction, axis=1)\n",
    "\n",
    "# Fill NaN values in 'fuel_type' using the mode for each model\n",
    "modes = df.groupby('model')['fuel_type'].apply(lambda x: x.mode().iloc[0] if not x.mode().empty else None)\n",
    "df['fuel_type'] = df.apply(\n",
    "    lambda row: modes[row['model']] if pd.isnull(row['fuel_type']) else row['fuel_type'], \n",
    "    axis=1\n",
    ")\n",
    "\n",
    "test_df['fuel_type'] = test_df.apply(\n",
    "    lambda row: modes[row['model']] if ((pd.isnull(row['fuel_type'])) & (row['model'] in modes)) else row['fuel_type'], \n",
    "    axis=1\n",
    ")\n",
    "\n",
    "# Failing that, fill with mode for whole dataset\n",
    "df['fuel_type'] = df['fuel_type'].fillna(df['fuel_type'].mode()[0])\n",
    "test_df['fuel_type'] = test_df['fuel_type'].fillna(df['fuel_type'].mode()[0])\n",
    "\n",
    "print('Number of cars with null fuel_type after:', len(df[df['fuel_type'].isnull()]))"
   ]
  },
  {
   "cell_type": "markdown",
   "id": "0b7bdfc9-3168-4fe4-8863-f160a5c14757",
   "metadata": {},
   "source": [
    "## Electric cars: fix contradictions between fuel_type=='Electric' and engine_size\n",
    "- Some cars have fuel_type=='Electric' and engine size can be 0,1 or null - want this to be uniform\n",
    "- Some cars have engine_size==0 and fuel_type!='Electric' - set this as null so it can be corrected later"
   ]
  },
  {
   "cell_type": "code",
   "execution_count": 6,
   "id": "16a9d93c-ea3a-410b-a44e-e8a6e9f6866e",
   "metadata": {},
   "outputs": [
    {
     "name": "stdout",
     "output_type": "stream",
     "text": [
      "Number of electric cars with null engine_size: 102\n"
     ]
    },
    {
     "data": {
      "text/html": [
       "<div>\n",
       "<style scoped>\n",
       "    .dataframe tbody tr th:only-of-type {\n",
       "        vertical-align: middle;\n",
       "    }\n",
       "\n",
       "    .dataframe tbody tr th {\n",
       "        vertical-align: top;\n",
       "    }\n",
       "\n",
       "    .dataframe thead th {\n",
       "        text-align: right;\n",
       "    }\n",
       "</style>\n",
       "<table border=\"1\" class=\"dataframe\">\n",
       "  <thead>\n",
       "    <tr style=\"text-align: right;\">\n",
       "      <th></th>\n",
       "      <th>model</th>\n",
       "      <th>body_type</th>\n",
       "      <th>fuel_type</th>\n",
       "      <th>transmission</th>\n",
       "      <th>derivative</th>\n",
       "      <th>plate</th>\n",
       "      <th>year</th>\n",
       "      <th>mileage</th>\n",
       "      <th>price</th>\n",
       "      <th>colour</th>\n",
       "      <th>area</th>\n",
       "      <th>feature_1</th>\n",
       "      <th>feature_2</th>\n",
       "      <th>feature_3</th>\n",
       "      <th>feature_4</th>\n",
       "      <th>feature_5</th>\n",
       "      <th>feature_6</th>\n",
       "      <th>feature_7</th>\n",
       "      <th>feature_8</th>\n",
       "      <th>feature_9</th>\n",
       "      <th>feature_10</th>\n",
       "      <th>euro_emissions</th>\n",
       "      <th>stopstart</th>\n",
       "      <th>motorsport</th>\n",
       "      <th>sport</th>\n",
       "      <th>doors</th>\n",
       "      <th>d_number</th>\n",
       "      <th>i_number</th>\n",
       "      <th>e_number</th>\n",
       "      <th>xdrive</th>\n",
       "      <th>se</th>\n",
       "      <th>steptronic</th>\n",
       "      <th>dct</th>\n",
       "      <th>touring</th>\n",
       "      <th>special_edition</th>\n",
       "      <th>competition</th>\n",
       "      <th>battery_capacity</th>\n",
       "    </tr>\n",
       "    <tr>\n",
       "      <th>engine_size</th>\n",
       "      <th></th>\n",
       "      <th></th>\n",
       "      <th></th>\n",
       "      <th></th>\n",
       "      <th></th>\n",
       "      <th></th>\n",
       "      <th></th>\n",
       "      <th></th>\n",
       "      <th></th>\n",
       "      <th></th>\n",
       "      <th></th>\n",
       "      <th></th>\n",
       "      <th></th>\n",
       "      <th></th>\n",
       "      <th></th>\n",
       "      <th></th>\n",
       "      <th></th>\n",
       "      <th></th>\n",
       "      <th></th>\n",
       "      <th></th>\n",
       "      <th></th>\n",
       "      <th></th>\n",
       "      <th></th>\n",
       "      <th></th>\n",
       "      <th></th>\n",
       "      <th></th>\n",
       "      <th></th>\n",
       "      <th></th>\n",
       "      <th></th>\n",
       "      <th></th>\n",
       "      <th></th>\n",
       "      <th></th>\n",
       "      <th></th>\n",
       "      <th></th>\n",
       "      <th></th>\n",
       "      <th></th>\n",
       "      <th></th>\n",
       "    </tr>\n",
       "  </thead>\n",
       "  <tbody>\n",
       "    <tr>\n",
       "      <th>0.0</th>\n",
       "      <td>285</td>\n",
       "      <td>285</td>\n",
       "      <td>285</td>\n",
       "      <td>285</td>\n",
       "      <td>285</td>\n",
       "      <td>281</td>\n",
       "      <td>281</td>\n",
       "      <td>285</td>\n",
       "      <td>285</td>\n",
       "      <td>285</td>\n",
       "      <td>285</td>\n",
       "      <td>285</td>\n",
       "      <td>285</td>\n",
       "      <td>285</td>\n",
       "      <td>285</td>\n",
       "      <td>285</td>\n",
       "      <td>285</td>\n",
       "      <td>285</td>\n",
       "      <td>285</td>\n",
       "      <td>285</td>\n",
       "      <td>285</td>\n",
       "      <td>0</td>\n",
       "      <td>285</td>\n",
       "      <td>285</td>\n",
       "      <td>285</td>\n",
       "      <td>93</td>\n",
       "      <td>0</td>\n",
       "      <td>0</td>\n",
       "      <td>0</td>\n",
       "      <td>285</td>\n",
       "      <td>285</td>\n",
       "      <td>285</td>\n",
       "      <td>285</td>\n",
       "      <td>285</td>\n",
       "      <td>285</td>\n",
       "      <td>285</td>\n",
       "      <td>84</td>\n",
       "    </tr>\n",
       "    <tr>\n",
       "      <th>1.0</th>\n",
       "      <td>1</td>\n",
       "      <td>1</td>\n",
       "      <td>1</td>\n",
       "      <td>1</td>\n",
       "      <td>1</td>\n",
       "      <td>1</td>\n",
       "      <td>1</td>\n",
       "      <td>1</td>\n",
       "      <td>1</td>\n",
       "      <td>1</td>\n",
       "      <td>1</td>\n",
       "      <td>1</td>\n",
       "      <td>1</td>\n",
       "      <td>1</td>\n",
       "      <td>1</td>\n",
       "      <td>1</td>\n",
       "      <td>1</td>\n",
       "      <td>1</td>\n",
       "      <td>1</td>\n",
       "      <td>1</td>\n",
       "      <td>1</td>\n",
       "      <td>0</td>\n",
       "      <td>1</td>\n",
       "      <td>1</td>\n",
       "      <td>1</td>\n",
       "      <td>1</td>\n",
       "      <td>0</td>\n",
       "      <td>0</td>\n",
       "      <td>0</td>\n",
       "      <td>1</td>\n",
       "      <td>1</td>\n",
       "      <td>1</td>\n",
       "      <td>1</td>\n",
       "      <td>1</td>\n",
       "      <td>1</td>\n",
       "      <td>1</td>\n",
       "      <td>1</td>\n",
       "    </tr>\n",
       "  </tbody>\n",
       "</table>\n",
       "</div>"
      ],
      "text/plain": [
       "             model  body_type  fuel_type  transmission  derivative  plate  \\\n",
       "engine_size                                                                 \n",
       "0.0            285        285        285           285         285    281   \n",
       "1.0              1          1          1             1           1      1   \n",
       "\n",
       "             year  mileage  price  colour  area  feature_1  feature_2  \\\n",
       "engine_size                                                             \n",
       "0.0           281      285    285     285   285        285        285   \n",
       "1.0             1        1      1       1     1          1          1   \n",
       "\n",
       "             feature_3  feature_4  feature_5  feature_6  feature_7  feature_8  \\\n",
       "engine_size                                                                     \n",
       "0.0                285        285        285        285        285        285   \n",
       "1.0                  1          1          1          1          1          1   \n",
       "\n",
       "             feature_9  feature_10  euro_emissions  stopstart  motorsport  \\\n",
       "engine_size                                                                 \n",
       "0.0                285         285               0        285         285   \n",
       "1.0                  1           1               0          1           1   \n",
       "\n",
       "             sport  doors  d_number  i_number  e_number  xdrive   se  \\\n",
       "engine_size                                                            \n",
       "0.0            285     93         0         0         0     285  285   \n",
       "1.0              1      1         0         0         0       1    1   \n",
       "\n",
       "             steptronic  dct  touring  special_edition  competition  \\\n",
       "engine_size                                                           \n",
       "0.0                 285  285      285              285          285   \n",
       "1.0                   1    1        1                1            1   \n",
       "\n",
       "             battery_capacity  \n",
       "engine_size                    \n",
       "0.0                        84  \n",
       "1.0                         1  "
      ]
     },
     "execution_count": 6,
     "metadata": {},
     "output_type": "execute_result"
    }
   ],
   "source": [
    "print('Number of electric cars with null engine_size:', len(df[(df['fuel_type']=='Electric') & (df['engine_size'].isna())]))\n",
    "df[df['fuel_type']=='Electric'].groupby('engine_size').count()"
   ]
  },
  {
   "cell_type": "code",
   "execution_count": 7,
   "id": "19cffe84-e251-442f-9a60-7922afa66ad3",
   "metadata": {},
   "outputs": [],
   "source": [
    "def electric_engine_size(df_):\n",
    "    df_.loc[(df_['engine_size']==0) & (df_['fuel_type']!='Electric'), 'engine_size'] = np.nan\n",
    "    df_.loc[(df_['engine_size']!=0) & (df_['fuel_type']=='Electric'), 'engine_size'] = 0\n",
    "    df_.loc[(df_['engine_size'].isna()) & (df_['fuel_type']=='Electric'), 'engine_size'] = 0\n",
    "    return df_\n",
    "\n",
    "df = electric_engine_size(df)\n",
    "test_df = electric_engine_size(test_df)"
   ]
  },
  {
   "cell_type": "markdown",
   "id": "e7fae337-c8d1-4201-9109-198c20be4470",
   "metadata": {},
   "source": [
    "## Fill null engine size \n",
    "- Use mode for that model and fuel type\n",
    "- Otherwise use mode for fuel type"
   ]
  },
  {
   "cell_type": "code",
   "execution_count": 8,
   "id": "1a86374c-405c-4287-a956-cac2010a72f6",
   "metadata": {},
   "outputs": [
    {
     "name": "stdout",
     "output_type": "stream",
     "text": [
      "Number of cars with null engine_size before: 111\n",
      "Number of cars with null engine_size after: 0\n"
     ]
    }
   ],
   "source": [
    "print('Number of cars with null engine_size before:', df['engine_size'].isna().sum())\n",
    "\n",
    "modes = df.groupby(['model','fuel_type'])['engine_size'].apply(lambda x: x.mode().iloc[0] if not x.mode().empty else None)\n",
    "df['engine_size'] = df.apply(\n",
    "    lambda row: modes[row['model'], row['fuel_type']] if pd.isnull(row['engine_size']) else row['engine_size'], \n",
    "    axis=1\n",
    ")\n",
    "test_df['engine_size'] = test_df.apply(\n",
    "    lambda row: modes[row['model'], row['fuel_type']] if ((pd.isnull(row['engine_size'])) & ((row['model'], row['fuel_type']) in modes)) else row['engine_size'], \n",
    "    axis=1\n",
    ")\n",
    "\n",
    "modes = df.groupby(['fuel_type'])['engine_size'].apply(lambda x: x.mode().iloc[0] if not x.mode().empty else None)\n",
    "df['engine_size'] = df.apply(\n",
    "    lambda row: modes[row['fuel_type']] if pd.isnull(row['engine_size']) else row['engine_size'], \n",
    "    axis=1\n",
    ")\n",
    "test_df['engine_size'] = test_df.apply(\n",
    "    lambda row: modes[row['fuel_type']] if pd.isnull(row['engine_size']) else row['engine_size'], \n",
    "    axis=1\n",
    ")\n",
    "\n",
    "print('Number of cars with null engine_size after:', df['engine_size'].isna().sum())"
   ]
  },
  {
   "cell_type": "markdown",
   "id": "8ce1ac62-1c3c-46cc-8178-c7f8f1875784",
   "metadata": {},
   "source": [
    "## Set engine size to null for electrics"
   ]
  },
  {
   "cell_type": "code",
   "execution_count": 9,
   "id": "c4da94bd-974e-4bb1-b63b-7783e2284e5b",
   "metadata": {},
   "outputs": [],
   "source": [
    "df.loc[(df['fuel_type']=='Electric'), 'engine_size'] = np.nan\n",
    "test_df.loc[(test_df['fuel_type']=='Electric'), 'engine_size'] = np.nan"
   ]
  },
  {
   "cell_type": "markdown",
   "id": "ecd632c5-97a8-43b1-96df-1b1696d8a27c",
   "metadata": {},
   "source": [
    "## Are there any cars where the plate contradicts the year?\n",
    "- There are only two cars where plate and year don't match\n",
    "- We don't know whether the plate or the year is correct -> set both to null and deal with them later"
   ]
  },
  {
   "cell_type": "code",
   "execution_count": 10,
   "id": "bcd68e27-67e3-4a0c-884f-fada5fe74b31",
   "metadata": {},
   "outputs": [
    {
     "name": "stdout",
     "output_type": "stream",
     "text": [
      "2 cars do not have acceptable plates\n",
      "0 cars do not have acceptable plates\n"
     ]
    }
   ],
   "source": [
    "plates_dict = {year : [str(year-2000), str(year-1950), str(year-1951)] for year in range(2002, 2024)}\n",
    "accepted_numerical_plates = pd.DataFrame([(year, plate) for year, plates in plates_dict.items() for plate in plates], columns=['year', 'plate'])\n",
    "accepted_numerical_plates['plate']=accepted_numerical_plates['plate'].astype(str)\n",
    "\n",
    "accepted_numerical_plates = pd.DataFrame([(year, plates) for year, plates in plates_dict.items()], \n",
    "                                         columns=['year', 'accepted_plates'])\n",
    "\n",
    "def check_accepted_plates(df_, accepted_numerical_plates):\n",
    "    df_ = df_.merge(accepted_numerical_plates, how='left', on='year')\n",
    "    df_.loc[pd.isna(df_['accepted_plates']), 'accepted_plates'] = df_['plate'][pd.isna(df_['accepted_plates'])].apply(lambda x: [x])\n",
    "    \n",
    "    df_['is_accepted'] = df_.apply(lambda row: True if pd.isna(row['plate']) else row['plate'] in row['accepted_plates'], axis=1)\n",
    "    print(len(df_[~df_['is_accepted']]), 'cars do not have acceptable plates')\n",
    "    df_.loc[(~df_['is_accepted']), 'year'] = np.nan\n",
    "    df_.loc[(~df_['is_accepted']), 'plate'] = np.nan\n",
    "    df_ = df_.drop(columns=['accepted_plates', 'is_accepted'])\n",
    "    return df_\n",
    "\n",
    "df = check_accepted_plates(df, accepted_numerical_plates)\n",
    "test_df = check_accepted_plates(test_df, accepted_numerical_plates)"
   ]
  },
  {
   "cell_type": "markdown",
   "id": "0617e923-7643-4ab3-8891-d290f1613f74",
   "metadata": {},
   "source": [
    "## Group all older plates\n",
    "- Found that the older plates don't impact the model so can group them together"
   ]
  },
  {
   "cell_type": "code",
   "execution_count": 11,
   "id": "136ef750-951a-4445-a19a-78eddf00f69f",
   "metadata": {},
   "outputs": [],
   "source": [
    "df.loc[df['plate'].str.isalpha().fillna(False), 'plate'] = 'alpha'\n",
    "test_df.loc[test_df['plate'].str.isalpha().fillna(False), 'plate'] = 'alpha'"
   ]
  },
  {
   "cell_type": "markdown",
   "id": "600da3bc-dbb9-428a-bef6-186eb2e394eb",
   "metadata": {},
   "source": [
    "## Fill missing plate / year\n",
    "- For missing plate, fill with the mode plate for cars of that year, and vice versa"
   ]
  },
  {
   "cell_type": "code",
   "execution_count": 12,
   "id": "f9d6b9bf-fed9-443f-9e19-68f2ba74a265",
   "metadata": {},
   "outputs": [],
   "source": [
    "modes = df.groupby(['year'])['plate'].apply(lambda x: x.mode().iloc[0] if not x.mode().empty else None)\n",
    "df['plate'] = df.apply(\n",
    "    lambda row: (modes[row['year']] if row['year'] in list(modes.index) else None) if pd.isnull(row['plate']) else row['plate'], \n",
    "    axis=1\n",
    ")\n",
    "test_df['plate'] = test_df.apply(\n",
    "    lambda row: (modes[row['year']] if row['year'] in list(modes.index) else None) if pd.isnull(row['plate']) else row['plate'], \n",
    "    axis=1\n",
    ")\n",
    "\n",
    "modes = df.groupby(['plate'])['year'].apply(lambda x: x.mode().iloc[0] if not x.mode().empty else None)\n",
    "df['year'] = df.apply(\n",
    "    lambda row: (modes[row['plate']] if row['plate'] in list(modes.index) else None) if pd.isnull(row['year']) else row['year'], \n",
    "    axis=1\n",
    ")\n",
    "test_df['year'] = test_df.apply(\n",
    "    lambda row: (modes[row['plate']] if row['plate'] in list(modes.index) else None) if pd.isnull(row['year']) else row['year'], \n",
    "    axis=1\n",
    ")"
   ]
  },
  {
   "cell_type": "markdown",
   "id": "9d3b3a28-e2ec-44b0-949a-228539a7ded7",
   "metadata": {},
   "source": [
    "## Use 'car age' instead of 'year of manufacture'"
   ]
  },
  {
   "cell_type": "code",
   "execution_count": 13,
   "id": "a225160a-9ba7-4856-9949-3d333d74fee6",
   "metadata": {},
   "outputs": [],
   "source": [
    "df['age'] = 2023 - df['year']\n",
    "df = df.drop(columns=['year'])\n",
    "\n",
    "test_df['age'] = 2023 - test_df['year']\n",
    "test_df = test_df.drop(columns=['year'])"
   ]
  },
  {
   "cell_type": "markdown",
   "id": "be1000e3-8965-4b3a-9893-62473b9dae89",
   "metadata": {},
   "source": [
    "## Now use a regression model to impute the age\n",
    "- Age is an important feature for the model\n",
    "- Can impute it by using the fact that the mileage and age have a close to linear relationship\n",
    "- Force intercept to zero"
   ]
  },
  {
   "cell_type": "code",
   "execution_count": 14,
   "id": "051b297d-f055-478f-b0a3-393ce622dfde",
   "metadata": {},
   "outputs": [],
   "source": [
    "train_data = df[['mileage','age']].dropna()\n",
    "X_train = train_data[['mileage']]\n",
    "y_train = train_data['age']\n",
    "\n",
    "model = LinearRegression(fit_intercept=False).fit(X_train, y_train)\n",
    "\n",
    "df.loc[df['age'].isnull(), 'age'] = model.predict(df[df['age'].isnull()][['mileage']])\n",
    "df['age'] = df['age'].astype(int)\n",
    "test_df.loc[test_df['age'].isnull(), 'age'] = model.predict(test_df[test_df['age'].isnull()][['mileage']])\n",
    "test_df['age'] = test_df['age'].astype(int)"
   ]
  },
  {
   "cell_type": "code",
   "execution_count": 15,
   "id": "6756fc9c-b9f3-43d0-b5ca-89c40ea1f070",
   "metadata": {},
   "outputs": [
    {
     "name": "stdout",
     "output_type": "stream",
     "text": [
      "Coefficients: [0.0001115]\n",
      "Intercept: 0.0\n"
     ]
    }
   ],
   "source": [
    "coefficients = model.coef_\n",
    "print(\"Coefficients:\", coefficients)\n",
    "intercept = model.intercept_\n",
    "print(\"Intercept:\", intercept)"
   ]
  },
  {
   "cell_type": "markdown",
   "id": "c69bcdf6-f25d-42a7-b2ba-fe9bb7190a3a",
   "metadata": {},
   "source": [
    "- Now fill the plate if missing"
   ]
  },
  {
   "cell_type": "code",
   "execution_count": 16,
   "id": "45bc363f-12d1-4c18-8952-052fc748f9a7",
   "metadata": {},
   "outputs": [],
   "source": [
    "modes = df.groupby(['age'])['plate'].apply(lambda x: x.mode().iloc[0] if not x.mode().empty else None)\n",
    "\n",
    "df['plate'] = df.apply(\n",
    "    lambda row: (modes[row['age']] if row['age'] in list(modes.index) else None) if pd.isnull(row['plate']) else row['plate'], \n",
    "    axis=1\n",
    ")\n",
    "test_df['plate'] = test_df.apply(\n",
    "    lambda row: (modes[row['age']] if row['age'] in list(modes.index) else None) if pd.isnull(row['plate']) else row['plate'], \n",
    "    axis=1\n",
    ")"
   ]
  },
  {
   "cell_type": "markdown",
   "id": "04c34bf8-0bc1-45fa-92b7-80051b92f90a",
   "metadata": {},
   "source": [
    "## New plate feature - first, middle or end part of year\n",
    "- Then can drop plate"
   ]
  },
  {
   "cell_type": "code",
   "execution_count": 17,
   "id": "41bebbd2-3a46-49f2-b088-763c5dc51382",
   "metadata": {},
   "outputs": [],
   "source": [
    "def new_plate_features(df_):\n",
    "    df_['plate_yearstart'] = 72 - df_['age'] == pd.to_numeric(df_['plate'], errors='coerce').fillna(False)\n",
    "    df_['plate_yearmiddle'] = 23 - df_['age'] == pd.to_numeric(df_['plate'], errors='coerce').fillna(False)\n",
    "    df_['plate_yearend'] = 73 - df_['age'] == pd.to_numeric(df_['plate'], errors='coerce').fillna(False)\n",
    "    \n",
    "    df_['plate_time_of_year'] = df_.apply(lambda row: 1 if row['plate_yearstart'] else 2 if row['plate_yearmiddle'] else 3 if row['plate_yearend'] else np.nan, 1)\n",
    "    df_.drop(columns=['plate'], inplace=True)\n",
    "    return df_\n",
    "\n",
    "df = new_plate_features(df)\n",
    "test_df = new_plate_features(test_df)"
   ]
  },
  {
   "cell_type": "markdown",
   "id": "1b8efe99-f7b7-44c3-a419-d6afea0527e3",
   "metadata": {},
   "source": [
    "## Rare models -> 'Other'\n",
    "- Lots of models only have one car\n",
    "- Create 'Other' car model to replace these with"
   ]
  },
  {
   "cell_type": "code",
   "execution_count": 18,
   "id": "ac523836-d930-40f5-996c-d62ae6ac72c8",
   "metadata": {},
   "outputs": [],
   "source": [
    "df.loc[df['model'].str.contains('Alpina', case=False, na=False), 'model'] = 'Alpina'\n",
    "test_df.loc[test_df['model'].str.contains('Alpina', case=False, na=False), 'model'] = 'Alpina'\n",
    "\n",
    "rare_models = df.groupby('model')['price'].count().reset_index()\n",
    "rare_models = rare_models[rare_models['price']<10]\n",
    "\n",
    "df.loc[df['model'].isin(list(rare_models['model'])), 'model'] = 'Other'\n",
    "test_df.loc[test_df['model'].isin(list(rare_models['model'])), 'model'] = 'Other'"
   ]
  },
  {
   "cell_type": "markdown",
   "id": "1d84da3c-3571-4900-ab23-33ba7a968cad",
   "metadata": {},
   "source": [
    "## Fill nulls in body type and transmission\n",
    "- Check the 'derivative' column to see if it contains the body type. Otherwise use the mode for the dataset."
   ]
  },
  {
   "cell_type": "code",
   "execution_count": 19,
   "id": "11c8b363-0b5c-4de3-906c-8a9ff3dc03b8",
   "metadata": {},
   "outputs": [],
   "source": [
    "body_types = df['body_type'].dropna().unique()\n",
    "\n",
    "def fill_body_type(row):\n",
    "    if pd.isnull(row['body_type']):\n",
    "        if pd.isnull(row['derivative']):\n",
    "            return row['body_type']\n",
    "        for type in body_types:\n",
    "            if type in row['derivative']:\n",
    "                return type\n",
    "    return row['body_type']\n",
    "\n",
    "df['body_type'] = df.apply(fill_body_type, axis=1)\n",
    "test_df['body_type'] = test_df.apply(fill_body_type, axis=1)\n",
    "\n",
    "df['body_type'].fillna(df['body_type'].mode()[0], inplace=True)\n",
    "test_df['body_type'].fillna(df['body_type'].mode()[0], inplace=True)\n",
    "df['transmission'].fillna(df['transmission'].mode()[0], inplace=True)\n",
    "test_df['transmission'].fillna(df['transmission'].mode()[0], inplace=True)"
   ]
  },
  {
   "cell_type": "markdown",
   "id": "0a090219-0ae2-4b27-a65a-44a81f1fd789",
   "metadata": {},
   "source": [
    "## Reduce number of colour features\n",
    "- Some were not important in model, some only have a small number of cars"
   ]
  },
  {
   "cell_type": "code",
   "execution_count": 20,
   "id": "8f10ac13-4649-4667-8fba-75646556ee98",
   "metadata": {},
   "outputs": [],
   "source": [
    "colours_to_keep = ['Orange', 'Green', 'White', 'Silver', 'Black', 'Blue', 'Grey', 'Red', 'Yellow']\n",
    "df['colour'] = df['colour'].replace([col for col in df['colour'].unique() if col not in colours_to_keep], 'Other')\n",
    "test_df['colour'] = test_df['colour'].replace([col for col in test_df['colour'].unique() if col not in colours_to_keep], 'Other')"
   ]
  },
  {
   "cell_type": "markdown",
   "id": "35df6fa6-eabe-47c5-ac61-79531d23d33f",
   "metadata": {},
   "source": [
    "## Create a 'mileage per year' feature"
   ]
  },
  {
   "cell_type": "code",
   "execution_count": 21,
   "id": "b8524474-3ccc-4579-9766-866c45de1987",
   "metadata": {},
   "outputs": [],
   "source": [
    "df['mileage_per_year'] = df['mileage']/(df['age']+1)\n",
    "test_df['mileage_per_year'] = test_df['mileage']/(test_df['age']+1)"
   ]
  },
  {
   "cell_type": "markdown",
   "id": "013f61fc-c06b-4d99-b31c-6556ec276d77",
   "metadata": {},
   "source": [
    "## Drop columns:\n",
    "- Drop derivative\n",
    "- Drop area - it doesn't add anything to the model in its current form and no time to do any more analysis"
   ]
  },
  {
   "cell_type": "code",
   "execution_count": 22,
   "id": "3c8d3d97-48ec-4548-925d-3731ad3ebdb1",
   "metadata": {},
   "outputs": [],
   "source": [
    "df = df.drop(columns=['area', 'derivative'])\n",
    "test_df = test_df.drop(columns=['area', 'derivative'])"
   ]
  },
  {
   "cell_type": "code",
   "execution_count": 23,
   "id": "d9a19a58-c2e6-496b-b08c-23487c937335",
   "metadata": {},
   "outputs": [],
   "source": [
    "df.to_csv('processed_data.csv', index=False)"
   ]
  },
  {
   "cell_type": "code",
   "execution_count": 24,
   "id": "82bad323-5490-43ab-a1ec-7a9ad3620487",
   "metadata": {},
   "outputs": [],
   "source": [
    "test_df.to_csv('processed_test_data.csv', index=False)"
   ]
  },
  {
   "cell_type": "code",
   "execution_count": null,
   "id": "3a39a53f-36f3-4119-900a-0000004c0397",
   "metadata": {},
   "outputs": [],
   "source": []
  }
 ],
 "metadata": {
  "kernelspec": {
   "display_name": "car_prices",
   "language": "python",
   "name": "car_prices"
  },
  "language_info": {
   "codemirror_mode": {
    "name": "ipython",
    "version": 3
   },
   "file_extension": ".py",
   "mimetype": "text/x-python",
   "name": "python",
   "nbconvert_exporter": "python",
   "pygments_lexer": "ipython3",
   "version": "3.8.18"
  }
 },
 "nbformat": 4,
 "nbformat_minor": 5
}
